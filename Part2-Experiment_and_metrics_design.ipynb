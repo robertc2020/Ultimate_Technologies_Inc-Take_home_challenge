{
 "cells": [
  {
   "cell_type": "markdown",
   "id": "accessible-speed",
   "metadata": {},
   "source": [
    "# Part 2 ‑ Experiment and metrics design"
   ]
  },
  {
   "cell_type": "markdown",
   "id": "moral-atlantic",
   "metadata": {},
   "source": [
    "The neighboring cities of Gotham and Metropolis have complementary circadian rhythms: on weekdays, Ultimate Gotham is most active at night, and Ultimate Metropolis is most active during the day. On weekends, there is reasonable activity in both cities. However, a toll bridge, with a two way toll, between the two cities causes driver partners to tend to be exclusive to each city. The Ultimate managers of city operations for the two cities have\n",
    "proposed an experiment to encourage driver partners to be available in both cities, by reimbursing all toll costs.\n",
    "1. What would you choose as the key measure of success of this experiment in encouraging driver partners to serve both cities, and why would you choose this metric?\n",
    "2. Describe a practical experiment you would design to compare the effectiveness of the proposed change in relation to the key measure of success. Please provide details on:\n",
    "    1. how you will implement the experiment\n",
    "    2. what statistical test(s) you will conduct to verify the significance of the observation\n",
    "    3. how you would interpret the results and provide recommendations to the city operations team along with any caveats.\n",
    "\n",
    "----"
   ]
  },
  {
   "cell_type": "markdown",
   "id": "spoken-tract",
   "metadata": {},
   "source": [
    "__Answers:__\n",
    "\n",
    "__Ad 1:__  As a key measure of success of such an experiment, I would choose a change in the total number of bridge crossings before and after introducing the toll reimbursement. This assumes that the historical pre-reimbursement data are available for such a comparison. A significant increase in the bridge crossings after introducing the refund would indicate that the experiment was successful.\n",
    "\n",
    "__Ad 2:__ __(A)__ Realistically speaking, given the complementary rhythms of the two cities during the weekdays, I would expect to see a possible increase in bridge crossing predominantly during the weekends when both cities are active. For this reason, I would experiment with toll reimbursement only during the weekend days. If successful, such an experiment would imply a possible increase in the bridge crossing also during the weekdays, assuming drivers are willing to work longer than 12 hours or adjust their sleeping patterns to serve the other city. __(B)__ A one-tail Z-test seems appropriate for this purpose. The null hypothesis $H_0$ would be that there is no change in the average number of trips over the weekends. Using the bootstrap method, I would generate the test statistic by sampling the mean number of trips from the pre-experiment data. I would then calculate the observed post-experiment value of the test statistics and evaluate the corresponding p-value. __(C)__ If the p-value is smaller than the significance level $\\alpha = 0.05$ I would consider the experiment successful and report to the city operations that the toll reimbursement increases the interactions between both cities. There are two possible caveats to this procedure. The first one, which we already addressed, is not having sufficient data corresponding to the weekday activities. We solved this by extrapolating the result obtained for the weekends. The second caveat is that we assumed that one return bridge crossing corresponds to one trip. In reality, drivers may decide to operate in the other city after crossing the bridge. In this case, the average number of crossing should be replaced, e.g., by the average time a driver spends on the other side of the bridge."
   ]
  }
 ],
 "metadata": {
  "kernelspec": {
   "display_name": "Python 3",
   "language": "python",
   "name": "python3"
  },
  "language_info": {
   "codemirror_mode": {
    "name": "ipython",
    "version": 3
   },
   "file_extension": ".py",
   "mimetype": "text/x-python",
   "name": "python",
   "nbconvert_exporter": "python",
   "pygments_lexer": "ipython3",
   "version": "3.8.6"
  }
 },
 "nbformat": 4,
 "nbformat_minor": 5
}
