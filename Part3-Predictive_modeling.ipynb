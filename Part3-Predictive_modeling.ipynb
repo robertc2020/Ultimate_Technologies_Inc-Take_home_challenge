{
 "cells": [
  {
   "cell_type": "markdown",
   "id": "weird-marshall",
   "metadata": {},
   "source": [
    "# Part 3 ‑ Predictive modeling"
   ]
  },
  {
   "cell_type": "markdown",
   "id": "blind-isolation",
   "metadata": {},
   "source": [
    "Ultimate is interested in predicting rider retention. To help explore this question, we have provided a sample dataset of a cohort of users who signed up for an Ultimate account in January 2014. The data was pulled several months later, we consider a user retained if they were \"active\" (i.e. took a trip) in the preceding 30 days.\n",
    "\n",
    "We would like you to use this data set to help understand what factors are the best predictors for retention, and offer suggestions to operationalize those insights to help Ultimate.\n",
    "\n",
    "The data is in the attached file ultimate_data_challenge.json. See below for a detailed description of the dataset. Please include any code you wrote for the analysis and delete the dataset when you have finished with the challenge.\n",
    "\n",
    "1. Perform any cleaning, exploratory analysis, and/or visualizations to use the provided data for this analysis (a few sentences/plots describing your approach will suffice). What fraction of the observed users were retained?\n",
    "2. Build a predictive model to help Ultimate determine whether or not a user will be active in their 6th month on the system. Discuss why you chose your approach, what alternatives you considered, and any concerns you have. How valid is your model? Include any key indicators of model performance.\n",
    "3. Briefly discuss how Ultimate might leverage the insights gained from the model to improve its longterm rider retention (again, a few sentences will suffice).\n",
    "\n",
    "Data description:\n",
    "* city: city this user signed up in\n",
    "* phone: primary device for this user\n",
    "* signup_date: date of account registration, in the form \"YYYY MM DD\"\n",
    "* last_trip_date: the last time this user completed a trip, in the form \"YYYY MM DD\"\n",
    "* avg_dist: the average distance in miles per trip taken in the first 30 days after signup\n",
    "* avg_rating_by_driver: the rider's average rating over all of their trips\n",
    "* avg_rating_of_driver: the rider's average rating of their drivers over all of their trips\n",
    "* surge_pct: the percent of trips taken with surge multiplier > 1\n",
    "* avg_surge: The average surge multiplier over all of this user's trips\n",
    "* trips_in_first_30_days: the number of trips this user took in the first 30 days after signing up\n",
    "* ultimate_black_user: TRUE if the user took an Ultimate Black in their first 30 days, FALSE otherwise\n",
    "* weekday_pct: the percent of the user's trips occurring during a weekday\n",
    "\n",
    "----"
   ]
  },
  {
   "cell_type": "markdown",
   "id": "least-precipitation",
   "metadata": {},
   "source": [
    "We will try to respond to these questions by performing the exploratory data analysis (EDA) and modeling the customer retention as a classification problem with Logistic Regression, Random Forest and gradient boosting (LightGBM) models. We will study feature importance evaluated with these models, which we will optimize usng the area under the ROC curve score, convenient for maximazing the true to false positive (retention) ratio."
   ]
  },
  {
   "cell_type": "markdown",
   "id": "international-nerve",
   "metadata": {},
   "source": [
    "## 1. Data wrangling, EDA, Feature Engineering"
   ]
  },
  {
   "cell_type": "markdown",
   "id": "passing-andrew",
   "metadata": {},
   "source": [
    "Let's load libraries:"
   ]
  },
  {
   "cell_type": "code",
   "execution_count": 1,
   "id": "found-caution",
   "metadata": {},
   "outputs": [],
   "source": [
    "import pandas as pd\n",
    "import numpy as np\n",
    "import matplotlib as mpl # colors\n",
    "import matplotlib.pyplot as plt\n",
    "import matplotlib.ticker as ticker\n",
    "import seaborn as sns\n",
    "from datetime import datetime as dt\n",
    "import pickle\n",
    "\n",
    "plt.rcParams['axes.grid'] = True\n",
    "plt.rcParams['axes.axisbelow'] = True\n",
    "plt.rcParams['axes.xmargin'] = 0.02\n",
    "plt.rcParams['axes.ymargin'] = 0.1\n",
    "plt.rcParams['xtick.minor.visible'] = True\n",
    "plt.rcParams['ytick.minor.visible'] = True\n",
    "\n",
    "plt.rcParams['figure.figsize'] = (10.0, 5.0)\n",
    "plt.rcParams['axes.labelsize'] = 20\n",
    "plt.rcParams['xtick.labelsize'] = 14\n",
    "plt.rcParams['ytick.labelsize'] = 14"
   ]
  },
  {
   "cell_type": "markdown",
   "id": "interested-spectacular",
   "metadata": {},
   "source": [
    "and read in the data:"
   ]
  },
  {
   "cell_type": "code",
   "execution_count": 2,
   "id": "received-wisconsin",
   "metadata": {},
   "outputs": [
    {
     "data": {
      "text/html": [
       "<div>\n",
       "<style scoped>\n",
       "    .dataframe tbody tr th:only-of-type {\n",
       "        vertical-align: middle;\n",
       "    }\n",
       "\n",
       "    .dataframe tbody tr th {\n",
       "        vertical-align: top;\n",
       "    }\n",
       "\n",
       "    .dataframe thead th {\n",
       "        text-align: right;\n",
       "    }\n",
       "</style>\n",
       "<table border=\"1\" class=\"dataframe\">\n",
       "  <thead>\n",
       "    <tr style=\"text-align: right;\">\n",
       "      <th></th>\n",
       "      <th>city</th>\n",
       "      <th>trips_in_first_30_days</th>\n",
       "      <th>signup_date</th>\n",
       "      <th>avg_rating_of_driver</th>\n",
       "      <th>avg_surge</th>\n",
       "      <th>last_trip_date</th>\n",
       "      <th>phone</th>\n",
       "      <th>surge_pct</th>\n",
       "      <th>ultimate_black_user</th>\n",
       "      <th>weekday_pct</th>\n",
       "      <th>avg_dist</th>\n",
       "      <th>avg_rating_by_driver</th>\n",
       "    </tr>\n",
       "  </thead>\n",
       "  <tbody>\n",
       "    <tr>\n",
       "      <th>0</th>\n",
       "      <td>King's Landing</td>\n",
       "      <td>4</td>\n",
       "      <td>2014-01-25</td>\n",
       "      <td>4.7</td>\n",
       "      <td>1.10</td>\n",
       "      <td>2014-06-17</td>\n",
       "      <td>iPhone</td>\n",
       "      <td>15.4</td>\n",
       "      <td>True</td>\n",
       "      <td>46.2</td>\n",
       "      <td>3.67</td>\n",
       "      <td>5.0</td>\n",
       "    </tr>\n",
       "    <tr>\n",
       "      <th>1</th>\n",
       "      <td>Astapor</td>\n",
       "      <td>0</td>\n",
       "      <td>2014-01-29</td>\n",
       "      <td>5.0</td>\n",
       "      <td>1.00</td>\n",
       "      <td>2014-05-05</td>\n",
       "      <td>Android</td>\n",
       "      <td>0.0</td>\n",
       "      <td>False</td>\n",
       "      <td>50.0</td>\n",
       "      <td>8.26</td>\n",
       "      <td>5.0</td>\n",
       "    </tr>\n",
       "    <tr>\n",
       "      <th>2</th>\n",
       "      <td>Astapor</td>\n",
       "      <td>3</td>\n",
       "      <td>2014-01-06</td>\n",
       "      <td>4.3</td>\n",
       "      <td>1.00</td>\n",
       "      <td>2014-01-07</td>\n",
       "      <td>iPhone</td>\n",
       "      <td>0.0</td>\n",
       "      <td>False</td>\n",
       "      <td>100.0</td>\n",
       "      <td>0.77</td>\n",
       "      <td>5.0</td>\n",
       "    </tr>\n",
       "    <tr>\n",
       "      <th>3</th>\n",
       "      <td>King's Landing</td>\n",
       "      <td>9</td>\n",
       "      <td>2014-01-10</td>\n",
       "      <td>4.6</td>\n",
       "      <td>1.14</td>\n",
       "      <td>2014-06-29</td>\n",
       "      <td>iPhone</td>\n",
       "      <td>20.0</td>\n",
       "      <td>True</td>\n",
       "      <td>80.0</td>\n",
       "      <td>2.36</td>\n",
       "      <td>4.9</td>\n",
       "    </tr>\n",
       "    <tr>\n",
       "      <th>4</th>\n",
       "      <td>Winterfell</td>\n",
       "      <td>14</td>\n",
       "      <td>2014-01-27</td>\n",
       "      <td>4.4</td>\n",
       "      <td>1.19</td>\n",
       "      <td>2014-03-15</td>\n",
       "      <td>Android</td>\n",
       "      <td>11.8</td>\n",
       "      <td>False</td>\n",
       "      <td>82.4</td>\n",
       "      <td>3.13</td>\n",
       "      <td>4.9</td>\n",
       "    </tr>\n",
       "    <tr>\n",
       "      <th>...</th>\n",
       "      <td>...</td>\n",
       "      <td>...</td>\n",
       "      <td>...</td>\n",
       "      <td>...</td>\n",
       "      <td>...</td>\n",
       "      <td>...</td>\n",
       "      <td>...</td>\n",
       "      <td>...</td>\n",
       "      <td>...</td>\n",
       "      <td>...</td>\n",
       "      <td>...</td>\n",
       "      <td>...</td>\n",
       "    </tr>\n",
       "    <tr>\n",
       "      <th>49995</th>\n",
       "      <td>King's Landing</td>\n",
       "      <td>0</td>\n",
       "      <td>2014-01-25</td>\n",
       "      <td>5.0</td>\n",
       "      <td>1.00</td>\n",
       "      <td>2014-06-05</td>\n",
       "      <td>iPhone</td>\n",
       "      <td>0.0</td>\n",
       "      <td>False</td>\n",
       "      <td>100.0</td>\n",
       "      <td>5.63</td>\n",
       "      <td>4.2</td>\n",
       "    </tr>\n",
       "    <tr>\n",
       "      <th>49996</th>\n",
       "      <td>Astapor</td>\n",
       "      <td>1</td>\n",
       "      <td>2014-01-24</td>\n",
       "      <td>NaN</td>\n",
       "      <td>1.00</td>\n",
       "      <td>2014-01-25</td>\n",
       "      <td>iPhone</td>\n",
       "      <td>0.0</td>\n",
       "      <td>False</td>\n",
       "      <td>0.0</td>\n",
       "      <td>0.00</td>\n",
       "      <td>4.0</td>\n",
       "    </tr>\n",
       "    <tr>\n",
       "      <th>49997</th>\n",
       "      <td>Winterfell</td>\n",
       "      <td>0</td>\n",
       "      <td>2014-01-31</td>\n",
       "      <td>5.0</td>\n",
       "      <td>1.00</td>\n",
       "      <td>2014-05-22</td>\n",
       "      <td>Android</td>\n",
       "      <td>0.0</td>\n",
       "      <td>True</td>\n",
       "      <td>100.0</td>\n",
       "      <td>3.86</td>\n",
       "      <td>5.0</td>\n",
       "    </tr>\n",
       "    <tr>\n",
       "      <th>49998</th>\n",
       "      <td>Astapor</td>\n",
       "      <td>2</td>\n",
       "      <td>2014-01-14</td>\n",
       "      <td>3.0</td>\n",
       "      <td>1.00</td>\n",
       "      <td>2014-01-15</td>\n",
       "      <td>iPhone</td>\n",
       "      <td>0.0</td>\n",
       "      <td>False</td>\n",
       "      <td>100.0</td>\n",
       "      <td>4.58</td>\n",
       "      <td>3.5</td>\n",
       "    </tr>\n",
       "    <tr>\n",
       "      <th>49999</th>\n",
       "      <td>Astapor</td>\n",
       "      <td>0</td>\n",
       "      <td>2014-01-18</td>\n",
       "      <td>NaN</td>\n",
       "      <td>1.00</td>\n",
       "      <td>2014-04-20</td>\n",
       "      <td>Android</td>\n",
       "      <td>0.0</td>\n",
       "      <td>False</td>\n",
       "      <td>0.0</td>\n",
       "      <td>3.49</td>\n",
       "      <td>5.0</td>\n",
       "    </tr>\n",
       "  </tbody>\n",
       "</table>\n",
       "<p>50000 rows × 12 columns</p>\n",
       "</div>"
      ],
      "text/plain": [
       "                 city  trips_in_first_30_days signup_date  \\\n",
       "0      King's Landing                       4  2014-01-25   \n",
       "1             Astapor                       0  2014-01-29   \n",
       "2             Astapor                       3  2014-01-06   \n",
       "3      King's Landing                       9  2014-01-10   \n",
       "4          Winterfell                      14  2014-01-27   \n",
       "...               ...                     ...         ...   \n",
       "49995  King's Landing                       0  2014-01-25   \n",
       "49996         Astapor                       1  2014-01-24   \n",
       "49997      Winterfell                       0  2014-01-31   \n",
       "49998         Astapor                       2  2014-01-14   \n",
       "49999         Astapor                       0  2014-01-18   \n",
       "\n",
       "       avg_rating_of_driver  avg_surge last_trip_date    phone  surge_pct  \\\n",
       "0                       4.7       1.10     2014-06-17   iPhone       15.4   \n",
       "1                       5.0       1.00     2014-05-05  Android        0.0   \n",
       "2                       4.3       1.00     2014-01-07   iPhone        0.0   \n",
       "3                       4.6       1.14     2014-06-29   iPhone       20.0   \n",
       "4                       4.4       1.19     2014-03-15  Android       11.8   \n",
       "...                     ...        ...            ...      ...        ...   \n",
       "49995                   5.0       1.00     2014-06-05   iPhone        0.0   \n",
       "49996                   NaN       1.00     2014-01-25   iPhone        0.0   \n",
       "49997                   5.0       1.00     2014-05-22  Android        0.0   \n",
       "49998                   3.0       1.00     2014-01-15   iPhone        0.0   \n",
       "49999                   NaN       1.00     2014-04-20  Android        0.0   \n",
       "\n",
       "       ultimate_black_user  weekday_pct  avg_dist  avg_rating_by_driver  \n",
       "0                     True         46.2      3.67                   5.0  \n",
       "1                    False         50.0      8.26                   5.0  \n",
       "2                    False        100.0      0.77                   5.0  \n",
       "3                     True         80.0      2.36                   4.9  \n",
       "4                    False         82.4      3.13                   4.9  \n",
       "...                    ...          ...       ...                   ...  \n",
       "49995                False        100.0      5.63                   4.2  \n",
       "49996                False          0.0      0.00                   4.0  \n",
       "49997                 True        100.0      3.86                   5.0  \n",
       "49998                False        100.0      4.58                   3.5  \n",
       "49999                False          0.0      3.49                   5.0  \n",
       "\n",
       "[50000 rows x 12 columns]"
      ]
     },
     "execution_count": 2,
     "metadata": {},
     "output_type": "execute_result"
    }
   ],
   "source": [
    "df = pd.read_json(\"data/ultimate_data_challenge.json\")\n",
    "df"
   ]
  },
  {
   "cell_type": "code",
   "execution_count": 3,
   "id": "exotic-encyclopedia",
   "metadata": {},
   "outputs": [
    {
     "data": {
      "text/plain": [
       "(50000, 12)"
      ]
     },
     "execution_count": 3,
     "metadata": {},
     "output_type": "execute_result"
    }
   ],
   "source": [
    "df.shape"
   ]
  },
  {
   "cell_type": "code",
   "execution_count": 4,
   "id": "seasonal-flooring",
   "metadata": {},
   "outputs": [
    {
     "name": "stdout",
     "output_type": "stream",
     "text": [
      "<class 'pandas.core.frame.DataFrame'>\n",
      "RangeIndex: 50000 entries, 0 to 49999\n",
      "Data columns (total 12 columns):\n",
      " #   Column                  Non-Null Count  Dtype  \n",
      "---  ------                  --------------  -----  \n",
      " 0   city                    50000 non-null  object \n",
      " 1   trips_in_first_30_days  50000 non-null  int64  \n",
      " 2   signup_date             50000 non-null  object \n",
      " 3   avg_rating_of_driver    41878 non-null  float64\n",
      " 4   avg_surge               50000 non-null  float64\n",
      " 5   last_trip_date          50000 non-null  object \n",
      " 6   phone                   49604 non-null  object \n",
      " 7   surge_pct               50000 non-null  float64\n",
      " 8   ultimate_black_user     50000 non-null  bool   \n",
      " 9   weekday_pct             50000 non-null  float64\n",
      " 10  avg_dist                50000 non-null  float64\n",
      " 11  avg_rating_by_driver    49799 non-null  float64\n",
      "dtypes: bool(1), float64(6), int64(1), object(4)\n",
      "memory usage: 4.2+ MB\n"
     ]
    }
   ],
   "source": [
    "df.info()"
   ]
  },
  {
   "cell_type": "markdown",
   "id": "fundamental-console",
   "metadata": {},
   "source": [
    "We have two datetime-type features, which were not automatically recognized by pandas as such. Let's convert them to the datetime format now:"
   ]
  },
  {
   "cell_type": "code",
   "execution_count": 5,
   "id": "graphic-franklin",
   "metadata": {},
   "outputs": [],
   "source": [
    "df['last_trip_date'] = pd.to_datetime(df['last_trip_date'] )\n",
    "df['signup_date'] = pd.to_datetime(df['signup_date'] )"
   ]
  },
  {
   "cell_type": "code",
   "execution_count": 6,
   "id": "loved-webmaster",
   "metadata": {},
   "outputs": [
    {
     "data": {
      "text/plain": [
       "city                              object\n",
       "trips_in_first_30_days             int64\n",
       "signup_date               datetime64[ns]\n",
       "avg_rating_of_driver             float64\n",
       "avg_surge                        float64\n",
       "last_trip_date            datetime64[ns]\n",
       "phone                             object\n",
       "surge_pct                        float64\n",
       "ultimate_black_user                 bool\n",
       "weekday_pct                      float64\n",
       "avg_dist                         float64\n",
       "avg_rating_by_driver             float64\n",
       "dtype: object"
      ]
     },
     "execution_count": 6,
     "metadata": {},
     "output_type": "execute_result"
    }
   ],
   "source": [
    "df.dtypes"
   ]
  },
  {
   "cell_type": "markdown",
   "id": "printable-planning",
   "metadata": {},
   "source": [
    "OK. Let's plot the time information, i.e. the histograms with the distribution of the signup date and the date of the last trip:"
   ]
  },
  {
   "cell_type": "code",
   "execution_count": 7,
   "id": "minimal-intervention",
   "metadata": {},
   "outputs": [
    {
     "data": {
      "image/png": "[encoded data removed]",
      "text/plain": [
       "<Figure size 1080x576 with 2 Axes>"
      ]
     },
     "metadata": {
      "needs_background": "light"
     },
     "output_type": "display_data"
    }
   ],
   "source": [
    "fig, ax = plt.subplots(2,1,figsize=(15,8))\n",
    "\n",
    "df['signup_date'].hist(bins=10,ax=ax[0])\n",
    "df['last_trip_date'].hist(bins=50,ax=ax[1]);"
   ]
  },
  {
   "cell_type": "markdown",
   "id": "editorial-producer",
   "metadata": {},
   "source": [
    "As stated in the problem description, the signup date spans the time of one month, January 2014, and the last trip date is within the first 6 months of 2014. Time to construct the retention rate. A user is considered \"retained\" if his last trip took place within the last 30 days covered in the dataset. What exactly is the latest date?: "
   ]
  },
  {
   "cell_type": "code",
   "execution_count": 8,
   "id": "recorded-civilian",
   "metadata": {},
   "outputs": [
    {
     "name": "stdout",
     "output_type": "stream",
     "text": [
      "2014-07-01 00:00:00\n"
     ]
    }
   ],
   "source": [
    "print(df['last_trip_date'].max())"
   ]
  },
  {
   "cell_type": "markdown",
   "id": "iraqi-italic",
   "metadata": {},
   "source": [
    "July 1, so our cut off for the retained users should be set to June 1, 2014. \n",
    "\n",
    "Let's create a column with a binary information (retained or not) and check what's the rate of retained users:"
   ]
  },
  {
   "cell_type": "code",
   "execution_count": 9,
   "id": "considered-reviewer",
   "metadata": {},
   "outputs": [
    {
     "data": {
      "text/html": [
       "<div>\n",
       "<style scoped>\n",
       "    .dataframe tbody tr th:only-of-type {\n",
       "        vertical-align: middle;\n",
       "    }\n",
       "\n",
       "    .dataframe tbody tr th {\n",
       "        vertical-align: top;\n",
       "    }\n",
       "\n",
       "    .dataframe thead th {\n",
       "        text-align: right;\n",
       "    }\n",
       "</style>\n",
       "<table border=\"1\" class=\"dataframe\">\n",
       "  <thead>\n",
       "    <tr style=\"text-align: right;\">\n",
       "      <th></th>\n",
       "      <th>last_trip_date</th>\n",
       "      <th>target</th>\n",
       "    </tr>\n",
       "  </thead>\n",
       "  <tbody>\n",
       "    <tr>\n",
       "      <th>0</th>\n",
       "      <td>2014-06-17</td>\n",
       "      <td>1</td>\n",
       "    </tr>\n",
       "    <tr>\n",
       "      <th>1</th>\n",
       "      <td>2014-05-05</td>\n",
       "      <td>0</td>\n",
       "    </tr>\n",
       "    <tr>\n",
       "      <th>2</th>\n",
       "      <td>2014-01-07</td>\n",
       "      <td>0</td>\n",
       "    </tr>\n",
       "    <tr>\n",
       "      <th>3</th>\n",
       "      <td>2014-06-29</td>\n",
       "      <td>1</td>\n",
       "    </tr>\n",
       "    <tr>\n",
       "      <th>4</th>\n",
       "      <td>2014-03-15</td>\n",
       "      <td>0</td>\n",
       "    </tr>\n",
       "  </tbody>\n",
       "</table>\n",
       "</div>"
      ],
      "text/plain": [
       "  last_trip_date  target\n",
       "0     2014-06-17       1\n",
       "1     2014-05-05       0\n",
       "2     2014-01-07       0\n",
       "3     2014-06-29       1\n",
       "4     2014-03-15       0"
      ]
     },
     "execution_count": 9,
     "metadata": {},
     "output_type": "execute_result"
    }
   ],
   "source": [
    "df['target'] = np.where(df['last_trip_date'] >= '2014-06-01',1,0)\n",
    "df[['last_trip_date','target']].head()"
   ]
  },
  {
   "cell_type": "code",
   "execution_count": 10,
   "id": "plain-cheat",
   "metadata": {},
   "outputs": [
    {
     "data": {
      "image/png": "[encoded data removed]",
      "text/plain": [
       "<Figure size 720x360 with 1 Axes>"
      ]
     },
     "metadata": {
      "needs_background": "light"
     },
     "output_type": "display_data"
    }
   ],
   "source": [
    "df['target'].value_counts().plot.bar()\n",
    "\n",
    "plt.ylabel('Number of users',fontsize=15)\n",
    "plt.xlabel('User retention',fontsize=15)\n",
    "plt.xticks(rotation=0,fontsize=12);"
   ]
  },
  {
   "cell_type": "code",
   "execution_count": 11,
   "id": "covered-dealer",
   "metadata": {},
   "outputs": [
    {
     "data": {
      "text/html": [
       "<div>\n",
       "<style scoped>\n",
       "    .dataframe tbody tr th:only-of-type {\n",
       "        vertical-align: middle;\n",
       "    }\n",
       "\n",
       "    .dataframe tbody tr th {\n",
       "        vertical-align: top;\n",
       "    }\n",
       "\n",
       "    .dataframe thead th {\n",
       "        text-align: right;\n",
       "    }\n",
       "</style>\n",
       "<table border=\"1\" class=\"dataframe\">\n",
       "  <thead>\n",
       "    <tr style=\"text-align: right;\">\n",
       "      <th></th>\n",
       "      <th>N. of users</th>\n",
       "      <th>% of total</th>\n",
       "    </tr>\n",
       "  </thead>\n",
       "  <tbody>\n",
       "    <tr>\n",
       "      <th>0</th>\n",
       "      <td>31196</td>\n",
       "      <td>62.4</td>\n",
       "    </tr>\n",
       "    <tr>\n",
       "      <th>1</th>\n",
       "      <td>18804</td>\n",
       "      <td>37.6</td>\n",
       "    </tr>\n",
       "  </tbody>\n",
       "</table>\n",
       "</div>"
      ],
      "text/plain": [
       "   N. of users  % of total\n",
       "0        31196        62.4\n",
       "1        18804        37.6"
      ]
     },
     "execution_count": 11,
     "metadata": {},
     "output_type": "execute_result"
    }
   ],
   "source": [
    "tv = pd.concat([df['target'].value_counts(),df['target'].value_counts(normalize=True)*100],axis=1)\n",
    "tv.columns =['N. of users', '% of total']\n",
    "tv.round(1)"
   ]
  },
  {
   "cell_type": "markdown",
   "id": "collectible-reform",
   "metadata": {},
   "source": [
    "18.8k out of the total of 50k users (37.6%) are retained (active over the last 30 days)."
   ]
  },
  {
   "cell_type": "markdown",
   "id": "quiet-makeup",
   "metadata": {},
   "source": [
    "OK, good. Do we need the datetime columns at this point? Doesn't seem like we do, so let's remove them from the dataset:"
   ]
  },
  {
   "cell_type": "code",
   "execution_count": 12,
   "id": "several-egyptian",
   "metadata": {},
   "outputs": [
    {
     "data": {
      "text/html": [
       "<div>\n",
       "<style scoped>\n",
       "    .dataframe tbody tr th:only-of-type {\n",
       "        vertical-align: middle;\n",
       "    }\n",
       "\n",
       "    .dataframe tbody tr th {\n",
       "        vertical-align: top;\n",
       "    }\n",
       "\n",
       "    .dataframe thead th {\n",
       "        text-align: right;\n",
       "    }\n",
       "</style>\n",
       "<table border=\"1\" class=\"dataframe\">\n",
       "  <thead>\n",
       "    <tr style=\"text-align: right;\">\n",
       "      <th></th>\n",
       "      <th>city</th>\n",
       "      <th>trips_in_first_30_days</th>\n",
       "      <th>avg_rating_of_driver</th>\n",
       "      <th>avg_surge</th>\n",
       "      <th>phone</th>\n",
       "      <th>surge_pct</th>\n",
       "      <th>ultimate_black_user</th>\n",
       "      <th>weekday_pct</th>\n",
       "      <th>avg_dist</th>\n",
       "      <th>avg_rating_by_driver</th>\n",
       "      <th>target</th>\n",
       "    </tr>\n",
       "  </thead>\n",
       "  <tbody>\n",
       "    <tr>\n",
       "      <th>0</th>\n",
       "      <td>King's Landing</td>\n",
       "      <td>4</td>\n",
       "      <td>4.7</td>\n",
       "      <td>1.10</td>\n",
       "      <td>iPhone</td>\n",
       "      <td>15.4</td>\n",
       "      <td>True</td>\n",
       "      <td>46.2</td>\n",
       "      <td>3.67</td>\n",
       "      <td>5.0</td>\n",
       "      <td>1</td>\n",
       "    </tr>\n",
       "    <tr>\n",
       "      <th>1</th>\n",
       "      <td>Astapor</td>\n",
       "      <td>0</td>\n",
       "      <td>5.0</td>\n",
       "      <td>1.00</td>\n",
       "      <td>Android</td>\n",
       "      <td>0.0</td>\n",
       "      <td>False</td>\n",
       "      <td>50.0</td>\n",
       "      <td>8.26</td>\n",
       "      <td>5.0</td>\n",
       "      <td>0</td>\n",
       "    </tr>\n",
       "    <tr>\n",
       "      <th>2</th>\n",
       "      <td>Astapor</td>\n",
       "      <td>3</td>\n",
       "      <td>4.3</td>\n",
       "      <td>1.00</td>\n",
       "      <td>iPhone</td>\n",
       "      <td>0.0</td>\n",
       "      <td>False</td>\n",
       "      <td>100.0</td>\n",
       "      <td>0.77</td>\n",
       "      <td>5.0</td>\n",
       "      <td>0</td>\n",
       "    </tr>\n",
       "    <tr>\n",
       "      <th>3</th>\n",
       "      <td>King's Landing</td>\n",
       "      <td>9</td>\n",
       "      <td>4.6</td>\n",
       "      <td>1.14</td>\n",
       "      <td>iPhone</td>\n",
       "      <td>20.0</td>\n",
       "      <td>True</td>\n",
       "      <td>80.0</td>\n",
       "      <td>2.36</td>\n",
       "      <td>4.9</td>\n",
       "      <td>1</td>\n",
       "    </tr>\n",
       "    <tr>\n",
       "      <th>4</th>\n",
       "      <td>Winterfell</td>\n",
       "      <td>14</td>\n",
       "      <td>4.4</td>\n",
       "      <td>1.19</td>\n",
       "      <td>Android</td>\n",
       "      <td>11.8</td>\n",
       "      <td>False</td>\n",
       "      <td>82.4</td>\n",
       "      <td>3.13</td>\n",
       "      <td>4.9</td>\n",
       "      <td>0</td>\n",
       "    </tr>\n",
       "  </tbody>\n",
       "</table>\n",
       "</div>"
      ],
      "text/plain": [
       "             city  trips_in_first_30_days  avg_rating_of_driver  avg_surge  \\\n",
       "0  King's Landing                       4                   4.7       1.10   \n",
       "1         Astapor                       0                   5.0       1.00   \n",
       "2         Astapor                       3                   4.3       1.00   \n",
       "3  King's Landing                       9                   4.6       1.14   \n",
       "4      Winterfell                      14                   4.4       1.19   \n",
       "\n",
       "     phone  surge_pct  ultimate_black_user  weekday_pct  avg_dist  \\\n",
       "0   iPhone       15.4                 True         46.2      3.67   \n",
       "1  Android        0.0                False         50.0      8.26   \n",
       "2   iPhone        0.0                False        100.0      0.77   \n",
       "3   iPhone       20.0                 True         80.0      2.36   \n",
       "4  Android       11.8                False         82.4      3.13   \n",
       "\n",
       "   avg_rating_by_driver  target  \n",
       "0                   5.0       1  \n",
       "1                   5.0       0  \n",
       "2                   5.0       0  \n",
       "3                   4.9       1  \n",
       "4                   4.9       0  "
      ]
     },
     "execution_count": 12,
     "metadata": {},
     "output_type": "execute_result"
    }
   ],
   "source": [
    "df = df.drop(['signup_date','last_trip_date'],axis=1)\n",
    "df.head()"
   ]
  },
  {
   "cell_type": "code",
   "execution_count": null,
   "id": "opposed-dublin",
   "metadata": {},
   "outputs": [],
   "source": []
  },
  {
   "cell_type": "markdown",
   "id": "delayed-latitude",
   "metadata": {},
   "source": [
    "Let's focus on the features now. Let's start with addressing the missing values:"
   ]
  },
  {
   "cell_type": "code",
   "execution_count": 13,
   "id": "worthy-dealing",
   "metadata": {},
   "outputs": [
    {
     "data": {
      "text/html": [
       "<div>\n",
       "<style scoped>\n",
       "    .dataframe tbody tr th:only-of-type {\n",
       "        vertical-align: middle;\n",
       "    }\n",
       "\n",
       "    .dataframe tbody tr th {\n",
       "        vertical-align: top;\n",
       "    }\n",
       "\n",
       "    .dataframe thead th {\n",
       "        text-align: right;\n",
       "    }\n",
       "</style>\n",
       "<table border=\"1\" class=\"dataframe\">\n",
       "  <thead>\n",
       "    <tr style=\"text-align: right;\">\n",
       "      <th></th>\n",
       "      <th>N of missing</th>\n",
       "      <th>% of total</th>\n",
       "    </tr>\n",
       "  </thead>\n",
       "  <tbody>\n",
       "    <tr>\n",
       "      <th>city</th>\n",
       "      <td>0</td>\n",
       "      <td>0.00</td>\n",
       "    </tr>\n",
       "    <tr>\n",
       "      <th>trips_in_first_30_days</th>\n",
       "      <td>0</td>\n",
       "      <td>0.00</td>\n",
       "    </tr>\n",
       "    <tr>\n",
       "      <th>avg_rating_of_driver</th>\n",
       "      <td>8122</td>\n",
       "      <td>16.24</td>\n",
       "    </tr>\n",
       "    <tr>\n",
       "      <th>avg_surge</th>\n",
       "      <td>0</td>\n",
       "      <td>0.00</td>\n",
       "    </tr>\n",
       "    <tr>\n",
       "      <th>phone</th>\n",
       "      <td>396</td>\n",
       "      <td>0.79</td>\n",
       "    </tr>\n",
       "    <tr>\n",
       "      <th>surge_pct</th>\n",
       "      <td>0</td>\n",
       "      <td>0.00</td>\n",
       "    </tr>\n",
       "    <tr>\n",
       "      <th>ultimate_black_user</th>\n",
       "      <td>0</td>\n",
       "      <td>0.00</td>\n",
       "    </tr>\n",
       "    <tr>\n",
       "      <th>weekday_pct</th>\n",
       "      <td>0</td>\n",
       "      <td>0.00</td>\n",
       "    </tr>\n",
       "    <tr>\n",
       "      <th>avg_dist</th>\n",
       "      <td>0</td>\n",
       "      <td>0.00</td>\n",
       "    </tr>\n",
       "    <tr>\n",
       "      <th>avg_rating_by_driver</th>\n",
       "      <td>201</td>\n",
       "      <td>0.40</td>\n",
       "    </tr>\n",
       "    <tr>\n",
       "      <th>target</th>\n",
       "      <td>0</td>\n",
       "      <td>0.00</td>\n",
       "    </tr>\n",
       "  </tbody>\n",
       "</table>\n",
       "</div>"
      ],
      "text/plain": [
       "                        N of missing  % of total\n",
       "city                               0        0.00\n",
       "trips_in_first_30_days             0        0.00\n",
       "avg_rating_of_driver            8122       16.24\n",
       "avg_surge                          0        0.00\n",
       "phone                            396        0.79\n",
       "surge_pct                          0        0.00\n",
       "ultimate_black_user                0        0.00\n",
       "weekday_pct                        0        0.00\n",
       "avg_dist                           0        0.00\n",
       "avg_rating_by_driver             201        0.40\n",
       "target                             0        0.00"
      ]
     },
     "execution_count": 13,
     "metadata": {},
     "output_type": "execute_result"
    }
   ],
   "source": [
    "miss_vals = pd.concat((df.isna().sum(),(df.isna().sum()/df.shape[0]*100).round(2)),axis=1)\n",
    "miss_vals.columns = ['N of missing','% of total']\n",
    "miss_vals"
   ]
  },
  {
   "cell_type": "markdown",
   "id": "enhanced-traffic",
   "metadata": {},
   "source": [
    "Three out of 12 features contain missing values, these are average ratings given to and by a driver (16.2 and 0.4 %, respecively), and the customer's phone type (0.8%). As for ratings, we can assume that customers who were extremely happy or unhappy with the service spoke up and left the feedback, and that the ratings for the missing values are close to average. We will replace these missing values by the feature average value for the entire sample:"
   ]
  },
  {
   "cell_type": "code",
   "execution_count": 14,
   "id": "pharmaceutical-square",
   "metadata": {},
   "outputs": [],
   "source": [
    "for col in ['avg_rating_of_driver','avg_rating_by_driver']:\n",
    "    df[col] = df[col].fillna(df[col].mean())"
   ]
  },
  {
   "cell_type": "markdown",
   "id": "prescribed-liverpool",
   "metadata": {},
   "source": [
    "For the phone type, let's check what is the average retention rate for the subsample of users with missing phone info:"
   ]
  },
  {
   "cell_type": "code",
   "execution_count": 15,
   "id": "cloudy-imperial",
   "metadata": {},
   "outputs": [
    {
     "data": {
      "text/plain": [
       "0.34"
      ]
     },
     "execution_count": 15,
     "metadata": {},
     "output_type": "execute_result"
    }
   ],
   "source": [
    "df[df['phone'].isna()]['target'].mean().round(2)"
   ]
  },
  {
   "cell_type": "markdown",
   "id": "scheduled-technician",
   "metadata": {},
   "source": [
    "34% compared to 38% for the entire sample. Not a dramatic difference, so instead of guessing and subsituting the missing value for this categorical variable, let's remove the users who didn't give the phone info (0.4% of total, which should not affect our study of feature importance)."
   ]
  },
  {
   "cell_type": "code",
   "execution_count": 16,
   "id": "spoken-advance",
   "metadata": {},
   "outputs": [],
   "source": [
    "df = df.dropna()"
   ]
  },
  {
   "cell_type": "code",
   "execution_count": 17,
   "id": "automated-replacement",
   "metadata": {},
   "outputs": [
    {
     "name": "stdout",
     "output_type": "stream",
     "text": [
      "<class 'pandas.core.frame.DataFrame'>\n",
      "Int64Index: 49604 entries, 0 to 49999\n",
      "Data columns (total 11 columns):\n",
      " #   Column                  Non-Null Count  Dtype  \n",
      "---  ------                  --------------  -----  \n",
      " 0   city                    49604 non-null  object \n",
      " 1   trips_in_first_30_days  49604 non-null  int64  \n",
      " 2   avg_rating_of_driver    49604 non-null  float64\n",
      " 3   avg_surge               49604 non-null  float64\n",
      " 4   phone                   49604 non-null  object \n",
      " 5   surge_pct               49604 non-null  float64\n",
      " 6   ultimate_black_user     49604 non-null  bool   \n",
      " 7   weekday_pct             49604 non-null  float64\n",
      " 8   avg_dist                49604 non-null  float64\n",
      " 9   avg_rating_by_driver    49604 non-null  float64\n",
      " 10  target                  49604 non-null  int64  \n",
      "dtypes: bool(1), float64(6), int64(2), object(2)\n",
      "memory usage: 4.2+ MB\n"
     ]
    }
   ],
   "source": [
    "df.info()"
   ]
  },
  {
   "cell_type": "markdown",
   "id": "responsible-george",
   "metadata": {},
   "source": [
    "OK, no more missing values, we're good now. What above feature unique values?:"
   ]
  },
  {
   "cell_type": "code",
   "execution_count": 18,
   "id": "obvious-hypothesis",
   "metadata": {},
   "outputs": [
    {
     "data": {
      "text/plain": [
       "city                         3\n",
       "trips_in_first_30_days      59\n",
       "avg_rating_of_driver        38\n",
       "avg_surge                  115\n",
       "phone                        2\n",
       "surge_pct                  367\n",
       "ultimate_black_user          2\n",
       "weekday_pct                664\n",
       "avg_dist                  2902\n",
       "avg_rating_by_driver        28\n",
       "target                       2\n",
       "dtype: int64"
      ]
     },
     "execution_count": 18,
     "metadata": {},
     "output_type": "execute_result"
    }
   ],
   "source": [
    "df.nunique()"
   ]
  },
  {
   "cell_type": "markdown",
   "id": "particular-prerequisite",
   "metadata": {},
   "source": [
    "Summarizing the two printouts above, our dataset consists of:\n",
    "- 3 categorical features with only 3 or 2 unique values (city, phone, ultimate_black_user), and \n",
    "- 7 numerical features, with about 30 to 3,000 unique values. \n",
    "\n",
    "Let's plot these features. Let's show them separately for the customers who retained (yellow) and customers who churned (blue), after normalizing the distributions to the total number of events in each sample. This way, we can compare the shapes of the distributions to find those that differ the most."
   ]
  },
  {
   "cell_type": "code",
   "execution_count": 19,
   "id": "duplicate-heaven",
   "metadata": {},
   "outputs": [
    {
     "data": {
      "image/png": "[encoded data removed]",
      "text/plain": [
       "<Figure size 1440x432 with 3 Axes>"
      ]
     },
     "metadata": {
      "needs_background": "light"
     },
     "output_type": "display_data"
    }
   ],
   "source": [
    "fig, ax = plt.subplots(1,3,figsize=(20,6))\n",
    "\n",
    "for i,col in enumerate(df.drop('target',axis=1).select_dtypes(include=['object','bool'])):\n",
    "    \n",
    "    norm0 = df[df['target']==0][col].count()\n",
    "    norm1 = df[df['target']==1][col].count()\n",
    "    (df[df['target']==0].groupby(col)[col].count()/norm0).plot(kind='bar',ax=ax[i],color='b',alpha=0.5,label='Churned')\n",
    "    (df[df['target']==1].groupby(col)[col].count()/norm1).plot(kind='bar',ax=ax[i],color='y',alpha=0.5,label='Retained')\n",
    "    \n",
    "    ax[i].set_xlabel(col);ax[i].tick_params(axis='x', labelrotation=0)\n",
    "    ax[i].set_ylabel(\"\")\n",
    "    if i==0: ax[i].set_ylabel(\"N. of customers (normalized)\")\n",
    "        \n",
    "ax[1].legend(fontsize=15)\n",
    "fig.suptitle('Categorical features',fontsize=20)\n",
    "fig.tight_layout()"
   ]
  },
  {
   "cell_type": "code",
   "execution_count": 20,
   "id": "enabling-copyright",
   "metadata": {},
   "outputs": [
    {
     "data": {
      "image/png": "[encoded data removed]",
      "text/plain": [
       "<Figure size 1440x720 with 8 Axes>"
      ]
     },
     "metadata": {
      "needs_background": "light"
     },
     "output_type": "display_data"
    }
   ],
   "source": [
    "fig, ax = plt.subplots(2,4,figsize=(20,10))\n",
    "\n",
    "ax = ax.ravel()\n",
    "ax[7].set_axis_off()\n",
    "\n",
    "for i,col in enumerate(df.drop('target',axis=1).select_dtypes(include=['int','float'])):\n",
    "    \n",
    "    r = (df[col].min(),df[col].max()); b = 20\n",
    "    \n",
    "    df[df['target']==0][col].plot(kind='hist',density=True,ax=ax[i],range=r,bins=b,color='b',alpha=0.5,label='Churned')\n",
    "    df[df['target']==1][col].plot(kind='hist',density=True,ax=ax[i],range=r,bins=b,color='y',alpha=0.5,label='Retained')\n",
    "    ax[i].set_yscale('log')\n",
    "    \n",
    "    ax[i].set_xlabel(col)\n",
    "    ax[i].set_ylabel(\"\")\n",
    "    if i==4: ax[i].set_ylabel(\"N. of customers (normalized)\",position=(0,1.1))\n",
    "        \n",
    "ax[0].legend(fontsize=15)\n",
    "fig.suptitle('Numerical features',fontsize=20)\n",
    "fig.tight_layout()"
   ]
  },
  {
   "cell_type": "markdown",
   "id": "limited-billy",
   "metadata": {},
   "source": [
    "There are some clear trends, e.g. iPhone users, Ultimate Black users and customers from the city of King's Landing are more likely to retain, as well as those who took more trips over the last 30 days, whose average surge and average distance was lover, or those who didn't travel exclusively in the weekdays or weekends. Let's see if we will arrive at the same conclusions when studying the feature importance prediceted by the machine learning models.\n",
    "\n",
    "Before doing so, we need to convert the categorical features to the numerical ones. Let's order them in the increasing order of the retained/churned ratio:"
   ]
  },
  {
   "cell_type": "code",
   "execution_count": 21,
   "id": "republican-teens",
   "metadata": {},
   "outputs": [
    {
     "data": {
      "text/html": [
       "<div>\n",
       "<style scoped>\n",
       "    .dataframe tbody tr th:only-of-type {\n",
       "        vertical-align: middle;\n",
       "    }\n",
       "\n",
       "    .dataframe tbody tr th {\n",
       "        vertical-align: top;\n",
       "    }\n",
       "\n",
       "    .dataframe thead th {\n",
       "        text-align: right;\n",
       "    }\n",
       "</style>\n",
       "<table border=\"1\" class=\"dataframe\">\n",
       "  <thead>\n",
       "    <tr style=\"text-align: right;\">\n",
       "      <th></th>\n",
       "      <th>city</th>\n",
       "      <th>trips_in_first_30_days</th>\n",
       "      <th>avg_rating_of_driver</th>\n",
       "      <th>avg_surge</th>\n",
       "      <th>phone</th>\n",
       "      <th>surge_pct</th>\n",
       "      <th>ultimate_black_user</th>\n",
       "      <th>weekday_pct</th>\n",
       "      <th>avg_dist</th>\n",
       "      <th>avg_rating_by_driver</th>\n",
       "      <th>target</th>\n",
       "    </tr>\n",
       "  </thead>\n",
       "  <tbody>\n",
       "    <tr>\n",
       "      <th>0</th>\n",
       "      <td>2</td>\n",
       "      <td>4</td>\n",
       "      <td>4.7</td>\n",
       "      <td>1.10</td>\n",
       "      <td>1</td>\n",
       "      <td>15.4</td>\n",
       "      <td>1</td>\n",
       "      <td>46.2</td>\n",
       "      <td>3.67</td>\n",
       "      <td>5.0</td>\n",
       "      <td>1</td>\n",
       "    </tr>\n",
       "    <tr>\n",
       "      <th>1</th>\n",
       "      <td>0</td>\n",
       "      <td>0</td>\n",
       "      <td>5.0</td>\n",
       "      <td>1.00</td>\n",
       "      <td>0</td>\n",
       "      <td>0.0</td>\n",
       "      <td>0</td>\n",
       "      <td>50.0</td>\n",
       "      <td>8.26</td>\n",
       "      <td>5.0</td>\n",
       "      <td>0</td>\n",
       "    </tr>\n",
       "    <tr>\n",
       "      <th>2</th>\n",
       "      <td>0</td>\n",
       "      <td>3</td>\n",
       "      <td>4.3</td>\n",
       "      <td>1.00</td>\n",
       "      <td>1</td>\n",
       "      <td>0.0</td>\n",
       "      <td>0</td>\n",
       "      <td>100.0</td>\n",
       "      <td>0.77</td>\n",
       "      <td>5.0</td>\n",
       "      <td>0</td>\n",
       "    </tr>\n",
       "    <tr>\n",
       "      <th>3</th>\n",
       "      <td>2</td>\n",
       "      <td>9</td>\n",
       "      <td>4.6</td>\n",
       "      <td>1.14</td>\n",
       "      <td>1</td>\n",
       "      <td>20.0</td>\n",
       "      <td>1</td>\n",
       "      <td>80.0</td>\n",
       "      <td>2.36</td>\n",
       "      <td>4.9</td>\n",
       "      <td>1</td>\n",
       "    </tr>\n",
       "    <tr>\n",
       "      <th>4</th>\n",
       "      <td>1</td>\n",
       "      <td>14</td>\n",
       "      <td>4.4</td>\n",
       "      <td>1.19</td>\n",
       "      <td>0</td>\n",
       "      <td>11.8</td>\n",
       "      <td>0</td>\n",
       "      <td>82.4</td>\n",
       "      <td>3.13</td>\n",
       "      <td>4.9</td>\n",
       "      <td>0</td>\n",
       "    </tr>\n",
       "  </tbody>\n",
       "</table>\n",
       "</div>"
      ],
      "text/plain": [
       "   city  trips_in_first_30_days  avg_rating_of_driver  avg_surge  phone  \\\n",
       "0     2                       4                   4.7       1.10      1   \n",
       "1     0                       0                   5.0       1.00      0   \n",
       "2     0                       3                   4.3       1.00      1   \n",
       "3     2                       9                   4.6       1.14      1   \n",
       "4     1                      14                   4.4       1.19      0   \n",
       "\n",
       "   surge_pct  ultimate_black_user  weekday_pct  avg_dist  \\\n",
       "0       15.4                    1         46.2      3.67   \n",
       "1        0.0                    0         50.0      8.26   \n",
       "2        0.0                    0        100.0      0.77   \n",
       "3       20.0                    1         80.0      2.36   \n",
       "4       11.8                    0         82.4      3.13   \n",
       "\n",
       "   avg_rating_by_driver  target  \n",
       "0                   5.0       1  \n",
       "1                   5.0       0  \n",
       "2                   5.0       0  \n",
       "3                   4.9       1  \n",
       "4                   4.9       0  "
      ]
     },
     "execution_count": 21,
     "metadata": {},
     "output_type": "execute_result"
    }
   ],
   "source": [
    "df['city']  = df['city'].replace(['Astapor','Winterfell',\"King's Landing\"],[0,1,2])\n",
    "df['phone'] = df['phone'].replace(['Android','iPhone'],[0,1])\n",
    "df['ultimate_black_user'] = df['ultimate_black_user'].replace([False, True],[0,1])\n",
    "\n",
    "df.head()"
   ]
  },
  {
   "cell_type": "code",
   "execution_count": 22,
   "id": "unauthorized-parking",
   "metadata": {},
   "outputs": [
    {
     "data": {
      "text/plain": [
       "((49604, 10), (49604,))"
      ]
     },
     "execution_count": 22,
     "metadata": {},
     "output_type": "execute_result"
    }
   ],
   "source": [
    "X = df.drop('target',axis=1)\n",
    "y = df['target'].values\n",
    "\n",
    "X.shape,y.shape"
   ]
  },
  {
   "cell_type": "markdown",
   "id": "ranging-wisconsin",
   "metadata": {},
   "source": [
    "Good, the dataset is ready for the modeling step. "
   ]
  },
  {
   "cell_type": "markdown",
   "id": "norwegian-veteran",
   "metadata": {},
   "source": [
    "## 2. Modeling"
   ]
  },
  {
   "cell_type": "markdown",
   "id": "north-seeking",
   "metadata": {},
   "source": [
    "Let's load the relevant libraries:"
   ]
  },
  {
   "cell_type": "code",
   "execution_count": 23,
   "id": "geographic-function",
   "metadata": {},
   "outputs": [],
   "source": [
    "from sklearn.model_selection import train_test_split\n",
    "from sklearn.preprocessing import StandardScaler\n",
    "from sklearn.model_selection import GridSearchCV\n",
    "\n",
    "from sklearn.linear_model import LogisticRegression\n",
    "from sklearn.ensemble import RandomForestClassifier\n",
    "from lightgbm import LGBMClassifier\n",
    "\n",
    "import warnings\n",
    "warnings.filterwarnings('ignore')"
   ]
  },
  {
   "cell_type": "markdown",
   "id": "australian-messaging",
   "metadata": {},
   "source": [
    "and let's run the three models: Logistic Regression (LR), Random Forest (RF) and Gradient Boosting (LightGBM) models. The comparison of the performance of LR relative to RF and LightGBM will give us hints on how non-linear the problem is. We will draw conclusions about feature importance on customer retention using the latter two models. We expect a similar performance for both of them, with perhaps slightely better score for the gradient boosting model. Comparison of two models will reduce the randomness in the modeling, and will give us a more robust insight into feature relevance."
   ]
  },
  {
   "cell_type": "markdown",
   "id": "postal-fundamentals",
   "metadata": {},
   "source": [
    "### 2.1 Logistic Regression model"
   ]
  },
  {
   "cell_type": "markdown",
   "id": "muslim-eligibility",
   "metadata": {},
   "source": [
    "Let's scale the data, and split it into train and test subsamples (75%/25%):"
   ]
  },
  {
   "cell_type": "code",
   "execution_count": 24,
   "id": "steady-reference",
   "metadata": {},
   "outputs": [
    {
     "data": {
      "text/plain": [
       "((37203, 10), (37203,), (12401, 10), (12401,))"
      ]
     },
     "execution_count": 24,
     "metadata": {},
     "output_type": "execute_result"
    }
   ],
   "source": [
    "scaler = StandardScaler()\n",
    "\n",
    "X_scaled = scaler.fit_transform(X)\n",
    "X_train,X_test,y_train,y_test = train_test_split(X_scaled,y,test_size=0.25,random_state=123)\n",
    "\n",
    "X_train.shape, y_train.shape, X_test.shape, y_test.shape"
   ]
  },
  {
   "cell_type": "code",
   "execution_count": 25,
   "id": "emerging-institute",
   "metadata": {},
   "outputs": [
    {
     "name": "stdout",
     "output_type": "stream",
     "text": [
      "[1.e-03 1.e-02 1.e-01 1.e+00 1.e+01 1.e+02 1.e+03]\n",
      "Best Parameters: {'C': 1000.0}\n",
      "Best Score:0.758\n",
      "CPU times: user 345 ms, sys: 162 ms, total: 507 ms\n",
      "Wall time: 2.54 s\n"
     ]
    }
   ],
   "source": [
    "%%time\n",
    "lr = LogisticRegression(penalty='l1',solver='saga',max_iter=1000,random_state=123)\n",
    "    \n",
    "print(np.logspace(-3,3,7))\n",
    "grid = {'C': np.logspace(-3,3,7)}\n",
    "    \n",
    "lr_grid_cv = GridSearchCV(lr,param_grid=grid,scoring='roc_auc',return_train_score=True,cv=3,n_jobs=-1)\n",
    "lr_grid_cv.fit(X_train, y_train)\n",
    "\n",
    "print(\"Best Parameters: \" + str(lr_grid_cv.best_params_))\n",
    "print(\"Best Score:\"  + str(round(lr_grid_cv.best_score_,3)))\n",
    "\n",
    "coef = pd.Series(lr_grid_cv.best_estimator_.coef_[0], index = X.columns)"
   ]
  },
  {
   "cell_type": "code",
   "execution_count": 26,
   "id": "commercial-trainer",
   "metadata": {},
   "outputs": [
    {
     "data": {
      "image/png": "[encoded data removed]",
      "text/plain": [
       "<Figure size 720x360 with 1 Axes>"
      ]
     },
     "metadata": {
      "needs_background": "light"
     },
     "output_type": "display_data"
    }
   ],
   "source": [
    "lr_results = pd.DataFrame(lr_grid_cv.cv_results_)\n",
    "ax = lr_results.plot('param_C','mean_train_score',yerr='std_train_score',marker='o',markersize=4)\n",
    "lr_results.plot('param_C','mean_test_score',yerr='std_test_score',marker='o',markersize=4,ax=ax)\n",
    "plt.xscale(\"log\")\n",
    "ax.set_ylabel('AUC');"
   ]
  },
  {
   "cell_type": "markdown",
   "id": "broad-forty",
   "metadata": {},
   "source": [
    "### 2.2 Random Forest model"
   ]
  },
  {
   "cell_type": "markdown",
   "id": "unsigned-beauty",
   "metadata": {},
   "source": [
    "Here we do not need to scale the data. Let's split the original dataset into the train and test subsamples (75%/25%):"
   ]
  },
  {
   "cell_type": "code",
   "execution_count": 27,
   "id": "cubic-treasurer",
   "metadata": {},
   "outputs": [
    {
     "data": {
      "text/plain": [
       "((37203, 10), (37203,), (12401, 10), (12401,))"
      ]
     },
     "execution_count": 27,
     "metadata": {},
     "output_type": "execute_result"
    }
   ],
   "source": [
    "X_train,X_test,y_train,y_test = train_test_split(X,y,test_size=0.25,random_state=123)\n",
    "\n",
    "X_train.shape, y_train.shape, X_test.shape, y_test.shape"
   ]
  },
  {
   "cell_type": "code",
   "execution_count": 28,
   "id": "sustained-indicator",
   "metadata": {},
   "outputs": [
    {
     "name": "stdout",
     "output_type": "stream",
     "text": [
      "Best Parameters: {'max_depth': 10, 'n_estimators': 500}\n",
      "Best Score:0.85\n",
      "CPU times: user 8.35 s, sys: 27 ms, total: 8.37 s\n",
      "Wall time: 48.4 s\n"
     ]
    }
   ],
   "source": [
    "%%time\n",
    "rf = RandomForestClassifier(random_state=123)\n",
    "\n",
    "grid = {'n_estimators': [100,200,500],\n",
    "        'max_depth': [10,20,50]}\n",
    "\n",
    "rf_grid_cv = GridSearchCV(rf,param_grid=grid,scoring='roc_auc',return_train_score=True,cv=3,n_jobs=-1)\n",
    "        \n",
    "rf_grid_cv.fit(X_train, y_train)\n",
    "        \n",
    "print(\"Best Parameters: \" + str(rf_grid_cv.best_params_))\n",
    "print(\"Best Score:\"  + str(round(rf_grid_cv.best_score_,3)))\n",
    "\n",
    "rf_fi = pd.Series(rf_grid_cv.best_estimator_.feature_importances_, index=X.columns)"
   ]
  },
  {
   "cell_type": "markdown",
   "id": "excited-sperm",
   "metadata": {},
   "source": [
    "### 2.3 Gradient boosting, LightGBM model"
   ]
  },
  {
   "cell_type": "code",
   "execution_count": 29,
   "id": "impressed-victorian",
   "metadata": {},
   "outputs": [
    {
     "name": "stdout",
     "output_type": "stream",
     "text": [
      "Best Parameters: {'boosting_type': 'dart', 'learning_rate': 0.1, 'n_estimators': 500, 'num_leaves': 32}\n",
      "Best Score:0.858\n",
      "CPU times: user 53.2 s, sys: 391 ms, total: 53.6 s\n",
      "Wall time: 2min 37s\n"
     ]
    }
   ],
   "source": [
    "%%time\n",
    "lgb = LGBMClassifier(random_state=123)\n",
    "\n",
    "grid = {'boosting_type': ['gbdt','dart'],\n",
    "        'n_estimators': [100, 200, 500],\n",
    "        'learning_rate': [0.01, 0.1, 0.5],\n",
    "        'num_leaves': [16, 32, 64]}\n",
    "\n",
    "lgb_grid_cv = GridSearchCV(lgb,param_grid=grid,scoring='roc_auc',return_train_score=True,cv=3,n_jobs=-1)\n",
    "        \n",
    "lgb_grid_cv.fit(X_train, y_train)\n",
    "        \n",
    "print(\"Best Parameters: \" + str(lgb_grid_cv.best_params_))\n",
    "print(\"Best Score:\"  + str(round(lgb_grid_cv.best_score_,3)))   \n",
    "\n",
    "lgb_fi = pd.Series(lgb_grid_cv.best_estimator_.feature_importances_, index=X.columns)"
   ]
  },
  {
   "cell_type": "markdown",
   "id": "incredible-essence",
   "metadata": {},
   "source": [
    "## 3. Summary"
   ]
  },
  {
   "cell_type": "markdown",
   "id": "economic-lying",
   "metadata": {},
   "source": [
    "Let's plot the feature importance for each of the three cosidered models:"
   ]
  },
  {
   "cell_type": "code",
   "execution_count": 30,
   "id": "valuable-chick",
   "metadata": {},
   "outputs": [
    {
     "data": {
      "image/png": "[encoded data removed]",
      "text/plain": [
       "<Figure size 1440x360 with 3 Axes>"
      ]
     },
     "metadata": {
      "needs_background": "light"
     },
     "output_type": "display_data"
    }
   ],
   "source": [
    "fig, ax = plt.subplots(1,3,figsize=(20,5))\n",
    "\n",
    "coef.abs().sort_values().plot.barh(ax=ax[0])\n",
    "ax[0].set_title('Logistic Regression model',fontsize=18); ax[0].set_xlabel('Coeficients')\n",
    "\n",
    "rf_fi.sort_values().plot.barh(ax=ax[1])\n",
    "ax[1].set_title('Random Forest model',fontsize=18); ax[1].set_xlabel('Feature importance')\n",
    "\n",
    "lgb_fi.sort_values().plot.barh(ax=ax[2])\n",
    "ax[2].set_title('LighGBM model',fontsize=18); ax[2].set_xlabel('Feature importance')\n",
    "\n",
    "fig.tight_layout()"
   ]
  },
  {
   "cell_type": "markdown",
   "id": "automatic-contract",
   "metadata": {},
   "source": [
    "What can we say about them? Firstly, the results for the Logistic Regression (LR) are significantly different from those of ensamble models. This is expected for the case where the target dependence on the features is highly non linear. In fact, the LR model favors features than have the least number of unique values (categorical features with 2 or 3 unique values, to which it is easy to fit a straight logit line) or the features with a monotonically changing retained-to-churned ratio (trips_in_first_30_days, avg_surge, avg_dist). This bias of \"linearity\" is the reason why LR model obtained the worse score of the area under the ROC curve (0.76). A takeaway from the comparison is that our customer retention problem is highly non-linear.\n",
    "\n",
    "The comparsion between the results of Random Forest and LightGBM looks more consistent. Among the 5 most important features for each model, 3 are common. These are: city, surge_pct, and weekday_pct. If we were to favor the LightGBM model, which gives the highest performance score of 0.86, we should also conclude that the retention depends strongly on the avg_dist and trips_in_the_first_30_days variables. On the other hand, the Random Forest results suggest that the average_rating_by_driver is the most important feature.\n",
    "\n",
    "In order to improve the customer retention rate, we recommend to Ultimate to focus on parameters such as:\n",
    "* the average surge multiplier over all of this user's trips (the lower multiplier favors higher retention)\n",
    "* the percent of the trips occurring during a weekday (trips taken exclusively on weekends or week days have higher customer churn),\n",
    "* average distance traveled in each ride in the first 30 days (shorter trips favor higher retention), and\n",
    "* number of rides in the first 30 days (more rides favor higher retention),\n",
    "* average rating by driver (higher rating indicate higher retention, so listen to your drivers :)."
   ]
  }
 ],
 "metadata": {
  "kernelspec": {
   "display_name": "Python 3",
   "language": "python",
   "name": "python3"
  },
  "language_info": {
   "codemirror_mode": {
    "name": "ipython",
    "version": 3
   },
   "file_extension": ".py",
   "mimetype": "text/x-python",
   "name": "python",
   "nbconvert_exporter": "python",
   "pygments_lexer": "ipython3",
   "version": "3.8.6"
  }
 },
 "nbformat": 4,
 "nbformat_minor": 5
}
